{
 "cells": [
  {
   "cell_type": "code",
   "execution_count": 5,
   "metadata": {},
   "outputs": [],
   "source": [
    "import requests\n",
    "from bs4 import BeautifulSoup"
   ]
  },
  {
   "cell_type": "code",
   "execution_count": 6,
   "metadata": {},
   "outputs": [],
   "source": [
    "url = \"https://www.fotmob.com/leagues/47/stats/season/20720/players/goals/premier-league-players\""
   ]
  },
  {
   "cell_type": "code",
   "execution_count": 7,
   "metadata": {},
   "outputs": [],
   "source": [
    "def scrape_website(url, selector):\n",
    "    response = requests.get(url)\n",
    "    if response.status_code == 200:\n",
    "        soup = BeautifulSoup(response.text, 'html.parser')\n",
    "        section = soup.select_one(selector)\n",
    "        if section:\n",
    "            return section.prettify()\n",
    "        else:\n",
    "            return \"Selector not found.\"\n",
    "    else:\n",
    "        return \"Failed to fetch page.\""
   ]
  },
  {
   "cell_type": "code",
   "execution_count": 8,
   "metadata": {},
   "outputs": [
    {
     "name": "stdout",
     "output_type": "stream",
     "text": [
      "<div class=\"css-11h0hl4-CardCSS eenhk2w0\">\n",
      " <style data-emotion=\"css 1yndnk3-LeagueSeasonStatsContainerCSS\">\n",
      "  .css-1yndnk3-LeagueSeasonStatsContainerCSS{display:-webkit-box;display:-webkit-flex;display:-ms-flexbox;display:flex;-webkit-flex-direction:column;-ms-flex-direction:column;flex-direction:column;}\n",
      " </style>\n",
      " <div class=\"css-1yndnk3-LeagueSeasonStatsContainerCSS e1vb2ffi4\">\n",
      "  <style data-emotion=\"css 1n72jcz-TLNavStickyCSS\">\n",
      "   .css-1n72jcz-TLNavStickyCSS{display:-webkit-box;display:-webkit-flex;display:-ms-flexbox;display:flex;-webkit-align-items:center;-webkit-box-align:center;-ms-flex-align:center;align-items:center;height:64px;padding:0 20px;-webkit-box-pack:justify;-webkit-justify-content:space-between;justify-content:space-between;position:-webkit-sticky;position:sticky;bottom:0;z-index:13;background-color:var(--GlobalColorScheme-Background-card);}.css-1n72jcz-TLNavStickyCSS button{display:-webkit-box;display:-webkit-flex;display:-ms-flexbox;display:flex;-webkit-align-items:center;-webkit-box-align:center;-ms-flex-align:center;align-items:center;gap:20px;}.css-1n72jcz-TLNavStickyCSS button span{font-size:19px;font-family:GTWalsheim-Md;}.css-1n72jcz-TLNavStickyCSS button svg{width:30px;height:30px;}.css-1n72jcz-TLNavStickyCSS button:hover #prefix__Ellipse_377{fill:var(--DatePicker-DatepickerArrowButton-hoverBackground);}.css-1n72jcz-TLNavStickyCSS button:hover #prefix__Path_132{fill:var(--DatePicker-DatepickerArrowButton-hoverColor);}.css-1n72jcz-TLNavStickyCSS button:hover span{-webkit-text-decoration:underline;text-decoration:underline;}.css-1n72jcz-TLNavStickyCSS [class*=\"OpenSyncCalendarPageButton\"] svg{width:20px;height:20px;}@media (max-width: 991px){.css-1n72jcz-TLNavStickyCSS{display:none;}}\n",
      "  </style>\n",
      "  <div class=\"css-1n72jcz-TLNavStickyCSS e4kq6is0\">\n",
      "   <button type=\"button\">\n",
      "    <svg height=\"25px\" version=\"1.1\" viewbox=\"0 0 25 25\" width=\"25px\" xmlns=\"http://www.w3.org/2000/svg\">\n",
      "     <g fill=\"none\" fill-rule=\"evenodd\" id=\"Page-1\" stroke=\"none\" stroke-width=\"1\">\n",
      "      <g id=\"calendar-navigation\">\n",
      "       <circle cx=\"12.5\" cy=\"12.5\" fill=\"var(--DatePicker-DatepickerArrowButton-background)\" fill-rule=\"nonzero\" id=\"prefix__Ellipse_377\" r=\"12.5\">\n",
      "       </circle>\n",
      "       <g id=\"prefix__ic_chevron_left\" transform=\"translate(5.000000, 5.000000)\">\n",
      "        <polygon id=\"prefix__Path_131\" points=\"0 0 15 0 15 15 0 15\">\n",
      "        </polygon>\n",
      "        <polygon fill=\"var(--GlobalColorScheme-ChevronSvg-datepickerRightLeft)\" fill-rule=\"nonzero\" id=\"prefix__Path_132\" points=\"9.554 7.523 5.448 2.693 4.12 3.659 6.656 7.523 3.999 11.388 5.448 12.354 9.554 7.524\" transform=\"translate(6.776500, 7.523500) rotate(180.000000) translate(-6.776500, -7.523500) \">\n",
      "        </polygon>\n",
      "       </g>\n",
      "      </g>\n",
      "     </g>\n",
      "    </svg>\n",
      "    <span>\n",
      "     Back\n",
      "    </span>\n",
      "   </button>\n",
      "  </div>\n",
      "  <div>\n",
      "  </div>\n",
      "  <div>\n",
      "   <style data-emotion=\"css qgmr78-Dummy\">\n",
      "    .css-qgmr78-Dummy{height:60vh;}\n",
      "   </style>\n",
      "   <span aria-busy=\"true\" aria-live=\"polite\">\n",
      "    <span class=\"react-loading-skeleton css-qgmr78-Dummy e392ecd0\" style=\"--base-color:var(--GlobalColorScheme-Skeleton-baseColor);--highlight-color:var(--GlobalColorScheme-Skeleton-highlightColor)\">\n",
      "     ‌\n",
      "    </span>\n",
      "    <br/>\n",
      "   </span>\n",
      "  </div>\n",
      " </div>\n",
      "</div>\n",
      "\n"
     ]
    }
   ],
   "source": [
    "response = scrape_website(url, '.css-11h0hl4-CardCSS.eenhk2w0')\n",
    "print(response)"
   ]
  }
 ],
 "metadata": {
  "kernelspec": {
   "display_name": "env",
   "language": "python",
   "name": "python3"
  },
  "language_info": {
   "codemirror_mode": {
    "name": "ipython",
    "version": 3
   },
   "file_extension": ".py",
   "mimetype": "text/x-python",
   "name": "python",
   "nbconvert_exporter": "python",
   "pygments_lexer": "ipython3",
   "version": "3.12.3"
  }
 },
 "nbformat": 4,
 "nbformat_minor": 2
}
